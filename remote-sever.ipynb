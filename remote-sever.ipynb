{
 "cells": [
  {
   "cell_type": "code",
   "execution_count": 1,
   "id": "a65b002d",
   "metadata": {},
   "outputs": [],
   "source": [
    "from ssh import download_a_file_from_s3\n",
    "from ssh import view_folder_contents\n",
    "from ssh import list_layers_in_geoserver"
   ]
  },
  {
   "cell_type": "code",
   "execution_count": null,
   "id": "cac8c696",
   "metadata": {},
   "outputs": [],
   "source": [
    "download_a_file_from_s3()"
   ]
  },
  {
   "cell_type": "code",
   "execution_count": 2,
   "id": "23c36c4c",
   "metadata": {},
   "outputs": [],
   "source": [
    "file_name = \"basemap_1997_modificado.tif\"\n",
    "folder_path = \"/home/ubuntu/geoserver-automation/\"\n"
   ]
  },
  {
   "cell_type": "code",
   "execution_count": 3,
   "id": "b275dd61",
   "metadata": {},
   "outputs": [
    {
     "name": "stdout",
     "output_type": "stream",
     "text": [
      "Connecting to 3.142.84.96 as ubuntu...\n",
      "download: s3://quasar-sensoriamento/basemap_1997_modificado.tif to geoserver-automation/basemap_1997_modificado.tif\n",
      "\n"
     ]
    }
   ],
   "source": [
    "download_a_file_from_s3(file_name, folder_path)"
   ]
  },
  {
   "cell_type": "code",
   "execution_count": 4,
   "id": "b4ec3dfe",
   "metadata": {},
   "outputs": [
    {
     "name": "stdout",
     "output_type": "stream",
     "text": [
      "Connecting to 3.142.84.96 as ubuntu...\n",
      "basemap_1997_modificado.tif\n",
      "demo_marilia.zip\n",
      "\n"
     ]
    }
   ],
   "source": [
    "view_folder_contents(folder_path)"
   ]
  },
  {
   "cell_type": "code",
   "execution_count": 13,
   "id": "6632febc",
   "metadata": {},
   "outputs": [
    {
     "name": "stdout",
     "output_type": "stream",
     "text": [
      "Connecting to 3.142.84.96 as ubuntu...\n",
      "Upload concluído com sucesso!\n",
      " <coverageStore>\n",
      "  <name>basemap_1997_modificado</name>\n",
      "  <type>GeoTIFF</type>\n",
      "  <enabled>true</enabled>\n",
      "  <workspace>\n",
      "    <name>teste2</name>\n",
      "  </workspace>\n",
      "  <__default>false</__default>\n",
      "  <dateCreated>2025-07-23 20:53:42.89 UTC</dateCreated>\n",
      "  <disableOnConnFailure>false</disableOnConnFailure>\n",
      "  <url>file:data/teste2/basemap_1997_modificado/basemap_1997_modificado.tif</url>\n",
      "</coverageStore>\n"
     ]
    }
   ],
   "source": [
    "from ssh import upload_raster_to_geoserver\n",
    "upload_raster_to_geoserver(\"teste2\", folder_path + \"basemap_1997_modificado.zip\", \"basemap_1997_modificado\")"
   ]
  },
  {
   "cell_type": "code",
   "execution_count": 5,
   "id": "301674ac",
   "metadata": {},
   "outputs": [
    {
     "name": "stdout",
     "output_type": "stream",
     "text": [
      "Connecting to 3.142.84.96 as ubuntu...\n",
      "Camadas no GS: \n",
      "b'{\"layers\":{\"layer\":[{\"name\":\"exemplo_automation:brazil_continente\",\"href\":\"http://localhost:8080/geoserver/rest/layers/exemplo_automation%3Abrazil_continente.json\"},{\"name\":\"exemplo_automation:disc_slope_31983\",\"href\":\"http://localhost:8080/geoserver/rest/layers/exemplo_automation%3Adisc_slope_31983.json\"},{\"name\":\"teste:demo_marilia\",\"href\":\"http://localhost:8080/geoserver/rest/layers/teste%3Ademo_marilia.json\"}]}}'\n"
     ]
    }
   ],
   "source": [
    "list_layers_in_geoserver()"
   ]
  },
  {
   "cell_type": "code",
   "execution_count": null,
   "id": "1d21ef3a",
   "metadata": {},
   "outputs": [
    {
     "name": "stdout",
     "output_type": "stream",
     "text": [
      "Connecting to 3.142.84.96 as ubuntu...\n",
      "Erro:\n",
      "   % Total    % Received % Xferd  Average Speed   Time    Time     Time  Current\n",
      "                                 Dload  Upload   Total   Spent    Left  Speed\n",
      "100 25314    0     0  100 25314      0   220k --:--:-- --:--:-- --:--:--  222k\n",
      "\n"
     ]
    }
   ],
   "source": [
    "from ssh import upload_zip_to_geoserver\n",
    "\n",
    "workspace = \"teste\"\n",
    "path = \"/home/ubuntu/geoserver-automation/demo_marilia.zip\"\n",
    "name = \"demo_marilia\"\n",
    "\n",
    "upload_zip_to_geoserver(workspace, path, name)"
   ]
  },
  {
   "cell_type": "code",
   "execution_count": 3,
   "id": "2a4191be",
   "metadata": {},
   "outputs": [
    {
     "name": "stdout",
     "output_type": "stream",
     "text": [
      "Connecting to 3.142.84.96 as ubuntu...\n",
      "Workspaces no GS: \n",
      "b'{\"workspaces\":{\"workspace\":[{\"name\":\"iyrfgry\",\"href\":\"http://localhost:8080/geoserver/rest/workspaces/iyrfgry.json\"},{\"name\":\"teste2\",\"href\":\"http://localhost:8080/geoserver/rest/workspaces/teste2.json\"},{\"name\":\"exemplo_automation\",\"href\":\"http://localhost:8080/geoserver/rest/workspaces/exemplo_automation.json\"},{\"name\":\"teste\",\"href\":\"http://localhost:8080/geoserver/rest/workspaces/teste.json\"}]}}'\n"
     ]
    }
   ],
   "source": [
    "from ssh import list_workspaces_in_geoserver\n",
    "list_workspaces_in_geoserver()"
   ]
  },
  {
   "cell_type": "code",
   "execution_count": 2,
   "id": "b1d978d9",
   "metadata": {},
   "outputs": [
    {
     "name": "stdout",
     "output_type": "stream",
     "text": [
      "Connecting to 3.142.84.96 as ubuntu...\n",
      "Workspace '3fre' não existe.\n"
     ]
    },
    {
     "data": {
      "text/plain": [
       "404"
      ]
     },
     "execution_count": 2,
     "metadata": {},
     "output_type": "execute_result"
    }
   ],
   "source": [
    "from ssh import consult_a_workspace_in_geoserver\n",
    "\n",
    "consult_a_workspace_in_geoserver(\"3fre\")"
   ]
  },
  {
   "cell_type": "code",
   "execution_count": 2,
   "id": "0592e3a1",
   "metadata": {},
   "outputs": [
    {
     "name": "stdout",
     "output_type": "stream",
     "text": [
      "Connecting to 3.142.84.96 as ubuntu...\n",
      "Erro ao criar workspace 'iyrfgry':\n",
      " <html>\n",
      "<head>\n",
      "<meta http-equiv=\"Content-Type\" content=\"text/html;charset=ISO-8859-1\"/>\n",
      "<title>Error 409 Workspace &apos;iyrfgry&apos; already exists</title>\n",
      "</head>\n",
      "<body><h2>HTTP ERROR 409 Workspace &apos;iyrfgry&apos; already exists</h2>\n",
      "<table>\n",
      "<tr><th>URI:</th><td>/geoserver/rest/workspaces</td></tr>\n",
      "<tr><th>STATUS:</th><td>409</td></tr>\n",
      "<tr><th>MESSAGE:</th><td>Workspace &apos;iyrfgry&apos; already exists</td></tr>\n",
      "<tr><th>SERVLET:</th><td>dispatcher</td></tr>\n",
      "</table>\n",
      "<hr/><a href=\"https://eclipse.org/jetty\">Powered by Jetty:// 9.4.52.v20230823</a><hr/>\n",
      "\n",
      "</body>\n",
      "</html>\n",
      "\n"
     ]
    }
   ],
   "source": [
    "from ssh import create_a_workspace_in_geoserver\n",
    "create_a_workspace_in_geoserver(\"iyrfgry\")"
   ]
  },
  {
   "cell_type": "code",
   "execution_count": null,
   "id": "82fdf748",
   "metadata": {},
   "outputs": [],
   "source": []
  }
 ],
 "metadata": {
  "kernelspec": {
   "display_name": "venv",
   "language": "python",
   "name": "python3"
  },
  "language_info": {
   "codemirror_mode": {
    "name": "ipython",
    "version": 3
   },
   "file_extension": ".py",
   "mimetype": "text/x-python",
   "name": "python",
   "nbconvert_exporter": "python",
   "pygments_lexer": "ipython3",
   "version": "3.10.11"
  }
 },
 "nbformat": 4,
 "nbformat_minor": 5
}
