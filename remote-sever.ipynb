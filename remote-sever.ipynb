{
 "cells": [
  {
   "cell_type": "code",
   "execution_count": 1,
   "id": "a65b002d",
   "metadata": {},
   "outputs": [],
   "source": [
    "from ssh import server_operation\n",
    "from ssh import view_folder_contents\n",
    "from ssh import list_layers_in_geoserver"
   ]
  },
  {
   "cell_type": "code",
   "execution_count": 2,
   "id": "23c36c4c",
   "metadata": {},
   "outputs": [],
   "source": [
    "file_name = \"demo_marilia.zip\"\n",
    "folder_path = \"/home/ubuntu/geoserver-automation/\"\n"
   ]
  },
  {
   "cell_type": "code",
   "execution_count": null,
   "id": "b275dd61",
   "metadata": {},
   "outputs": [],
   "source": [
    "server_operation(file_name, folder_path)"
   ]
  },
  {
   "cell_type": "code",
   "execution_count": 5,
   "id": "b4ec3dfe",
   "metadata": {},
   "outputs": [
    {
     "name": "stdout",
     "output_type": "stream",
     "text": [
      "demo_marilia.zip\n",
      "\n"
     ]
    }
   ],
   "source": [
    "view_folder_contents(folder_path)"
   ]
  },
  {
   "cell_type": "code",
   "execution_count": 2,
   "id": "301674ac",
   "metadata": {},
   "outputs": [
    {
     "name": "stdout",
     "output_type": "stream",
     "text": [
      "Connecting to 3.142.84.96 as ubuntu...\n",
      "Erro:   % Total    % Received % Xferd  Average Speed   Time    Time     Time  Current\n",
      "                                 Dload  Upload   Total   Spent    Left  Speed\n",
      "100   310    0   310    0     0  24859      0 --:--:-- --:--:-- --:--:-- 25833\n",
      "\n"
     ]
    }
   ],
   "source": [
    "list_layers_in_geoserver()"
   ]
  },
  {
   "cell_type": "code",
   "execution_count": 2,
   "id": "1d21ef3a",
   "metadata": {},
   "outputs": [
    {
     "name": "stdout",
     "output_type": "stream",
     "text": [
      "Connecting to 3.142.84.96 as ubuntu...\n",
      "Erro:\n",
      "   % Total    % Received % Xferd  Average Speed   Time    Time     Time  Current\n",
      "                                 Dload  Upload   Total   Spent    Left  Speed\n",
      "100 25314    0     0  100 25314      0   220k --:--:-- --:--:-- --:--:--  222k\n",
      "\n"
     ]
    }
   ],
   "source": [
    "from ssh import upload_zip_to_geoserver\n",
    "\n",
    "workspace = \"teste\"\n",
    "path = \"/home/ubuntu/geoserver-automation/demo_marilia.zip\"\n",
    "name = \"demo_marilia\"\n",
    "\n",
    "upload_zip_to_geoserver(workspace, path, name)"
   ]
  }
 ],
 "metadata": {
  "kernelspec": {
   "display_name": "venv",
   "language": "python",
   "name": "python3"
  },
  "language_info": {
   "codemirror_mode": {
    "name": "ipython",
    "version": 3
   },
   "file_extension": ".py",
   "mimetype": "text/x-python",
   "name": "python",
   "nbconvert_exporter": "python",
   "pygments_lexer": "ipython3",
   "version": "3.10.11"
  }
 },
 "nbformat": 4,
 "nbformat_minor": 5
}
